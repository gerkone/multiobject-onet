{
 "cells": [
  {
   "cell_type": "markdown",
   "id": "c947a032",
   "metadata": {},
   "source": [
    "# Synthetic Indoor Scene Dataset"
   ]
  },
  {
   "cell_type": "code",
   "execution_count": 31,
   "id": "b4735edf",
   "metadata": {},
   "outputs": [],
   "source": [
    "import numpy as np\n",
    "import matplotlib.pyplot as plt\n",
    "import os\n",
    "import torch"
   ]
  },
  {
   "cell_type": "code",
   "execution_count": null,
   "id": "16f35176",
   "metadata": {},
   "outputs": [],
   "source": []
  },
  {
   "cell_type": "code",
   "execution_count": 21,
   "id": "f53aebeb",
   "metadata": {},
   "outputs": [],
   "source": [
    "ex = '/ssd1/softgroup/preprocess/Area_5_hallway_7_inst_nostuff.pth'"
   ]
  },
  {
   "cell_type": "code",
   "execution_count": 22,
   "id": "7341ac0a",
   "metadata": {},
   "outputs": [],
   "source": [
    "data = torch.load(ex)"
   ]
  },
  {
   "cell_type": "code",
   "execution_count": 23,
   "id": "f8149239",
   "metadata": {},
   "outputs": [
    {
     "data": {
      "text/plain": [
       "(array([[-7.001,  5.411,  3.053],\n",
       "        [-7.038,  5.393,  3.053],\n",
       "        [-6.986,  5.435,  3.053],\n",
       "        ...,\n",
       "        [-6.359,  5.36 ,  2.33 ],\n",
       "        [-6.36 ,  5.36 ,  2.333],\n",
       "        [-6.356,  5.362,  2.335]], dtype=float32),\n",
       " array([[ 0.00392157,  0.00392157, -0.01176471],\n",
       "        [-0.25490196, -0.21568627, -0.24705882],\n",
       "        [-0.01176471, -0.00392157, -0.04313725],\n",
       "        ...,\n",
       "        [ 0.38823529,  0.42745098,  0.45882353],\n",
       "        [ 0.38039216,  0.41960784,  0.45098039],\n",
       "        [ 0.38039216,  0.41960784,  0.45098039]]),\n",
       " array([0, 0, 0, ..., 2, 2, 2]),\n",
       " array([13, 13, 13, ..., 20, 20, 20]),\n",
       " array([2]),\n",
       " 'Area_5_hallway_7')"
      ]
     },
     "execution_count": 23,
     "metadata": {},
     "output_type": "execute_result"
    }
   ],
   "source": [
    "data"
   ]
  },
  {
   "cell_type": "code",
   "execution_count": 24,
   "id": "5b14e1ad",
   "metadata": {},
   "outputs": [],
   "source": [
    "xyz = data[0]\n",
    "rgb = data[1]\n",
    "semantic_label = data[2]\n",
    "instance_label = data[3]"
   ]
  },
  {
   "cell_type": "code",
   "execution_count": 26,
   "id": "4d817337",
   "metadata": {},
   "outputs": [
    {
     "data": {
      "text/plain": [
       "array([-100,    1,    2,    3,    4,    5,    6,    7,    8,    9,   10,\n",
       "         11,   12,   13,   14,   15,   16,   17,   18,   19,   20,   21,\n",
       "         22,   23,   24,   25,   26,   27,   28,   29])"
      ]
     },
     "execution_count": 26,
     "metadata": {},
     "output_type": "execute_result"
    }
   ],
   "source": [
    "np.unique(instance_label)"
   ]
  },
  {
   "cell_type": "code",
   "execution_count": null,
   "id": "5cf6cfcb",
   "metadata": {},
   "outputs": [],
   "source": []
  },
  {
   "cell_type": "code",
   "execution_count": 2,
   "id": "7a7eec98",
   "metadata": {},
   "outputs": [],
   "source": [
    "path = '/ssd1/synthetic_rooms/'\n",
    "save_dir = '/ssd1/synthetic_inst_preprocessed'"
   ]
  },
  {
   "cell_type": "code",
   "execution_count": 27,
   "id": "777bf2be",
   "metadata": {},
   "outputs": [],
   "source": [
    "mode = 'train'"
   ]
  },
  {
   "cell_type": "code",
   "execution_count": 28,
   "id": "295859b0",
   "metadata": {},
   "outputs": [],
   "source": [
    "stat = {\n",
    "    -1: {'total': 0, 'num': 0},\n",
    "    0: {'total': 0, 'num': 0},\n",
    "    1: {'total': 0, 'num': 0},\n",
    "    2: {'total': 0, 'num': 0},\n",
    "    3: {'total': 0, 'num': 0},\n",
    "    4: {'total': 0, 'num': 0},\n",
    "}"
   ]
  },
  {
   "cell_type": "code",
   "execution_count": 30,
   "id": "294bb431",
   "metadata": {},
   "outputs": [
    {
     "name": "stdout",
     "output_type": "stream",
     "text": [
      "rooms_05\n",
      "sem [-1  0  1  2  3  4] inst [0 1 2 3 4 5]\n",
      "{-1: {'total': 23314, 'num': 15}, 0: {'total': 8035, 'num': 11}, 1: {'total': 12667, 'num': 13}, 2: {'total': 6796, 'num': 12}, 3: {'total': 10021, 'num': 11}, 4: {'total': 13552, 'num': 10}}\n",
      "rooms_04\n",
      "sem [-1  0  1  2  4] inst [0 1 2 3 4]\n",
      "sem [-1  0  1  2  3] inst [0 1 2 3 4]\n",
      "sem [-1  1  2  4] inst [0 1 2 3]\n",
      "sem [-1  0  2  3  4] inst [0 1 2 3 4]\n",
      "sem [-1  1  2  3] inst [0 1 2 3]\n",
      "sem [-1  1  2  3  4] inst [0 1 2 3 4]\n",
      "sem [-1  1  2  3  4] inst [0 1 2 3 4]\n",
      "sem [-1  0  1  3] inst [0 1 2 3]\n",
      "sem [-1  0  1  3  4] inst [0 1 2 3 4]\n",
      "sem [-1  0  3  4] inst [0 1 2 3]\n",
      "sem [-1  0  1  2  3] inst [0 1 2 3 4]\n",
      "sem [-1  0  1  2  4] inst [0 1 2 3 4]\n",
      "sem [-1  0  1  2] inst [0 1 2 3]\n",
      "{-1: {'total': 23054, 'num': 28}, 0: {'total': 13042, 'num': 20}, 1: {'total': 24207, 'num': 24}, 2: {'total': 17711, 'num': 22}, 3: {'total': 7242, 'num': 20}, 4: {'total': 12377, 'num': 18}}\n"
     ]
    }
   ],
   "source": [
    "for subdir in os.listdir(path):\n",
    "    print(subdir)\n",
    "    split = f'{path}/{subdir}/{mode}.lst'\n",
    "    files = []\n",
    "    with open(split, 'r') as f:\n",
    "        files = f.read().split('\\n')\n",
    "    for file in files:\n",
    "        num = np.random.randint(10)\n",
    "        p = f'{path}{subdir}/{file}/pointcloud/pointcloud_0{num}.npz'\n",
    "        try:\n",
    "            data = np.load(p, allow_pickle=True)\n",
    "            xyz = data['points'].astype('float32')\n",
    "            instance_labels = data['semantics']\n",
    "            semantic_labels = data['semantics']\n",
    "            pp = 0\n",
    "            for k in np.unique(semantic_labels):\n",
    "                stat[k]['total'] = len(xyz[semantic_labels==k])\n",
    "                stat[k]['num'] += 1\n",
    "                instance_labels[semantic_labels==k] = pp\n",
    "                pp += 1\n",
    "            print(\"sem\", np.unique(semantic_labels), \"inst\", np.unique(instance_labels))\n",
    "            rgb = np.zeros((xyz.shape[0], 3)).astype('uint8')\n",
    "            room_label = file\n",
    "            scene = f'{subdir}_{file}'\n",
    "            save_path = f'{save_dir}/{mode}/{scene}_inst_nostuff.pth'\n",
    "            torch.save((xyz, rgb, semantic_labels, instance_labels, room_label, scene), save_path)\n",
    "        except:\n",
    "            continue\n",
    "        \n",
    "    print(stat)\n",
    "\n",
    "        "
   ]
  },
  {
   "cell_type": "code",
   "execution_count": 45,
   "id": "84195e3f",
   "metadata": {},
   "outputs": [
    {
     "data": {
      "text/plain": [
       "array([-1,  0,  1,  4])"
      ]
     },
     "execution_count": 45,
     "metadata": {},
     "output_type": "execute_result"
    }
   ],
   "source": [
    "np.unique(semantic_labels)"
   ]
  },
  {
   "cell_type": "code",
   "execution_count": null,
   "id": "90053507",
   "metadata": {},
   "outputs": [],
   "source": []
  }
 ],
 "metadata": {
  "kernelspec": {
   "display_name": "Python 3 (ipykernel)",
   "language": "python",
   "name": "python3"
  },
  "language_info": {
   "codemirror_mode": {
    "name": "ipython",
    "version": 3
   },
   "file_extension": ".py",
   "mimetype": "text/x-python",
   "name": "python",
   "nbconvert_exporter": "python",
   "pygments_lexer": "ipython3",
   "version": "3.8.0"
  }
 },
 "nbformat": 4,
 "nbformat_minor": 5
}
