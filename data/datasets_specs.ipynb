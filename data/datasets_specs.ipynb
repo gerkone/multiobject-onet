{
 "cells": [
  {
   "cell_type": "markdown",
   "id": "c947a032",
   "metadata": {},
   "source": [
    "# Synthetic Indoor Scene Dataset"
   ]
  },
  {
   "cell_type": "markdown",
   "id": "317bfdf2",
   "metadata": {},
   "source": [
    "5000 scenes with multiple objects from ShapeNet (chair, sofa, lamp, cabinet, table). From [ConvONet](https://github.com/autonomousvision/convolutional_occupancy_networks)."
   ]
  },
  {
   "cell_type": "markdown",
   "id": "03112620",
   "metadata": {},
   "source": [
    "Size: 144GB  \n",
    "Structure: 1000 rooms per dir  \n",
    "Splits: [.75, .05, .2]  \n",
    "Train: 0-750, Val: 751-800, Test: 801-999\n",
    "```\n",
    "- rooms_04\n",
    "    - 00000000\n",
    "    - ...\n",
    "    - 00000999\n",
    "    - test.lst\n",
    "    - train.lst\n",
    "    - val.lst\n",
    "- ...\n",
    "- rooms_08\n",
    "```\n",
    "Sample: `rooms_04/00000000`\n",
    "```\n",
    "- item_dict.npz    \n",
    "- pointcloud0.ply  \n",
    "- pointcloud/\n",
    "- points_iou/\n",
    "```"
   ]
  },
  {
   "cell_type": "markdown",
   "id": "459349a9",
   "metadata": {},
   "source": [
    "<font size='4'>`rooms_%02d`: the number indicates the **number of objects in the room**! </font>"
   ]
  },
  {
   "cell_type": "markdown",
   "id": "54aeaaeb",
   "metadata": {},
   "source": [
    "#### Classes used from [ShapeNet](https://shapenet.org/taxonomy-viewer)\n",
    "Classes  \n",
    "`04256520`: sofa  \n",
    "`03636649`: lamp  \n",
    "`03001627`: chair  \n",
    "`04379243`: table  \n",
    "`02933112`: cabinet  "
   ]
  },
  {
   "cell_type": "code",
   "execution_count": 30,
   "id": "5067f0d5",
   "metadata": {},
   "outputs": [],
   "source": [
    "classes = ['04256520', '03636649', '03001627', '04379243', '02933112']\n",
    "classes.sort()"
   ]
  },
  {
   "cell_type": "code",
   "execution_count": 31,
   "id": "08eeb874",
   "metadata": {},
   "outputs": [
    {
     "data": {
      "text/plain": [
       "['02933112', '03001627', '03636649', '04256520', '04379243']"
      ]
     },
     "execution_count": 31,
     "metadata": {},
     "output_type": "execute_result"
    }
   ],
   "source": [
    "classes"
   ]
  },
  {
   "cell_type": "code",
   "execution_count": 33,
   "id": "8330458a",
   "metadata": {},
   "outputs": [],
   "source": [
    "cls_map = {\n",
    "    '04256520': 'sofa',\n",
    "    '03636649': 'lamp',\n",
    "    '03001627': 'chair',\n",
    "    '04379243': 'table',\n",
    "    '02933112': 'cabinet'\n",
    "}"
   ]
  },
  {
   "cell_type": "code",
   "execution_count": 37,
   "id": "e167d9f8",
   "metadata": {},
   "outputs": [
    {
     "data": {
      "text/plain": [
       "{0: 'cabinet',\n",
       " 1: 'chair',\n",
       " 2: 'lamp',\n",
       " 3: 'sofa',\n",
       " 4: 'table',\n",
       " -1: 'ground_plane'}"
      ]
     },
     "execution_count": 37,
     "metadata": {},
     "output_type": "execute_result"
    }
   ],
   "source": [
    "idx = lambda key: classes.index(key)\n",
    "cls_idx = dict(sorted((idx(k), v) for k, v in cls_map.items()))\n",
    "cls_idx[-1] = 'ground_plane'\n",
    "cls_idx"
   ]
  },
  {
   "cell_type": "code",
   "execution_count": 1,
   "id": "b4735edf",
   "metadata": {},
   "outputs": [],
   "source": [
    "import numpy as np\n",
    "from plyfile import PlyElement, PlyData\n",
    "import k3d\n",
    "import trimesh"
   ]
  },
  {
   "cell_type": "markdown",
   "id": "349dd00c",
   "metadata": {},
   "source": [
    "## `item_dict.npz`"
   ]
  },
  {
   "cell_type": "code",
   "execution_count": 12,
   "id": "d752c6e5",
   "metadata": {},
   "outputs": [],
   "source": [
    "item_dict = np.load('data/synthetic_room_dataset/rooms_04/00000000/item_dict.npz', allow_pickle=True)"
   ]
  },
  {
   "cell_type": "code",
   "execution_count": 21,
   "id": "f5450294",
   "metadata": {},
   "outputs": [
    {
     "name": "stdout",
     "output_type": "stream",
     "text": [
      "bboxes (4, 2, 2) \n",
      " [[[array([-0.21904938]) -0.22553027975898332]\n",
      "  [array([0.16622645]) 0.09387186944046111]]\n",
      "\n",
      " [[array([-0.02461729]) 0.37421428136134205]\n",
      "  [array([0.06721478]) 0.4653640989705788]]\n",
      "\n",
      " [[array([0.07332642]) 0.12255937464453248]\n",
      "  [array([0.29560124]) 0.42709711771908837]]\n",
      "\n",
      " [[array([-0.22283809]) -0.37251215691330536]\n",
      "  [array([-0.11733723]) -0.2672808741542804]]]\n",
      "classes (4,) \n",
      " ['03001627' '03636649' '02933112' '03636649']\n",
      "n_objects () \n",
      " 4\n",
      "objects (4,) \n",
      " ['03001627/631671b636ab97d4da41a38d2e317241'\n",
      " '03636649/330b05e262c93e216078c74a96498820'\n",
      " '02933112/6c45346990283b7fa2e244117f013369'\n",
      " '03636649/b45b8df0557da6acc14d5c159bab8297']\n",
      "room_idx () \n",
      " 0\n",
      "scales (4,) \n",
      " [0.33849483 0.25325549 0.39494988 0.39099373]\n",
      "split () \n",
      " train\n",
      "wall_height (1,) \n",
      " [0.25436147]\n",
      "wall_height_range (2,) \n",
      " [0.2 0.4]\n",
      "wall_probabilities (4,) \n",
      " [0.5 0.5 0.5 0.5]\n",
      "wall_thickness () \n",
      " 0.01\n",
      "walls (4,) \n",
      " [1 1 0 1]\n",
      "xz_groundplane_range (2,) \n",
      " [array([0.72667497]) 1.0]\n",
      "y_angle_range (2,) \n",
      " [  0. 360.]\n",
      "y_angles (4,) \n",
      " [346.72619817 177.34173034 333.10225106 333.39881536]\n"
     ]
    }
   ],
   "source": [
    "for item in sorted(item_dict.files):\n",
    "    print(item, item_dict[item].shape, '\\n', item_dict[item])"
   ]
  },
  {
   "cell_type": "markdown",
   "id": "8f041d24",
   "metadata": {},
   "source": [
    "## `pointcloud0.ply`"
   ]
  },
  {
   "cell_type": "code",
   "execution_count": 8,
   "id": "469354c5",
   "metadata": {},
   "outputs": [],
   "source": [
    "pts_path = '/shared_data/data/nfs/Nina/cv/synthetic_room_dataset/rooms_04/00000000/pointcloud0.ply'"
   ]
  },
  {
   "cell_type": "code",
   "execution_count": 9,
   "id": "d93a79f6",
   "metadata": {},
   "outputs": [],
   "source": [
    "def load_pointcloud(in_file):\n",
    "    plydata = PlyData.read(in_file)\n",
    "    print(plydata)\n",
    "    vertices = np.stack([\n",
    "        plydata['vertex']['x'],\n",
    "        plydata['vertex']['y'],\n",
    "        plydata['vertex']['z']\n",
    "    ], axis=1)\n",
    "    return vertices"
   ]
  },
  {
   "cell_type": "code",
   "execution_count": 10,
   "id": "16d5da02",
   "metadata": {},
   "outputs": [
    {
     "name": "stdout",
     "output_type": "stream",
     "text": [
      "ply\n",
      "format binary_little_endian 1.0\n",
      "comment github.com/mikedh/trimesh\n",
      "element vertex 80978\n",
      "property float x\n",
      "property float y\n",
      "property float z\n",
      "element face 0\n",
      "property list uchar int vertex_indices\n",
      "end_header\n"
     ]
    }
   ],
   "source": [
    "pc = load_pointcloud(pts_path)"
   ]
  },
  {
   "cell_type": "code",
   "execution_count": 104,
   "id": "f8687f8a",
   "metadata": {},
   "outputs": [],
   "source": [
    "# import trimesh\n",
    "\n",
    "# mesh = trimesh.load(pts_path)\n",
    "# scene = trimesh.Scene([mesh])\n",
    "# scene.show()\n",
    "\n",
    "# this is blank, as no faces"
   ]
  },
  {
   "cell_type": "markdown",
   "id": "3d1eadff",
   "metadata": {},
   "source": [
    "## `pointcloud` dir"
   ]
  },
  {
   "cell_type": "markdown",
   "id": "94f215a0",
   "metadata": {},
   "source": [
    "10 randomly sampled point-clouds from a scene  \n",
    "- pointcloud_00.npz\n",
    "- ...\n",
    "- pointcloud_09.npz"
   ]
  },
  {
   "cell_type": "code",
   "execution_count": 88,
   "id": "007000b0",
   "metadata": {},
   "outputs": [],
   "source": [
    "pointcloud_00 = np.load('data/synthetic_room_dataset/rooms_04/00000000/pointcloud/pointcloud_00.npz', allow_pickle=True)"
   ]
  },
  {
   "cell_type": "code",
   "execution_count": 91,
   "id": "03a51684",
   "metadata": {},
   "outputs": [
    {
     "name": "stdout",
     "output_type": "stream",
     "text": [
      "normals (80978, 3) \n",
      " [[-0.1388  -0.985   -0.10297]\n",
      " [-0.1604   0.95    -0.2666 ]\n",
      " [ 0.10736  0.02011 -0.994  ]\n",
      " ...\n",
      " [-0.       1.       0.     ]\n",
      " [-0.       1.       0.     ]\n",
      " [-0.       1.       0.     ]]\n",
      "points (80978, 3) \n",
      " [[-0.10645 -0.4841   0.03632]\n",
      " [ 0.0974  -0.2668  -0.1624 ]\n",
      " [ 0.141   -0.3667  -0.1544 ]\n",
      " ...\n",
      " [-0.3486  -0.49    -0.0475 ]\n",
      " [ 0.3303  -0.49     0.2766 ]\n",
      " [ 0.1202  -0.49     0.01799]]\n",
      "semantics (80978,) \n",
      " [ 1  1  1 ... -1 -1 -1]\n"
     ]
    }
   ],
   "source": [
    "for item in sorted(pointcloud_00.files):\n",
    "    print(item, pointcloud_00[item].shape, '\\n', pointcloud_00[item])"
   ]
  },
  {
   "cell_type": "markdown",
   "id": "7de2f964",
   "metadata": {},
   "source": [
    "-1 is the ground plane"
   ]
  },
  {
   "cell_type": "code",
   "execution_count": 93,
   "id": "b7e21de8",
   "metadata": {},
   "outputs": [
    {
     "data": {
      "text/plain": [
       "array([-1,  0,  1,  2])"
      ]
     },
     "execution_count": 93,
     "metadata": {},
     "output_type": "execute_result"
    }
   ],
   "source": [
    "np.unique(pointcloud_00['semantics'])"
   ]
  },
  {
   "cell_type": "markdown",
   "id": "f281e5c6",
   "metadata": {},
   "source": [
    "## `points_iou` dir"
   ]
  },
  {
   "cell_type": "code",
   "execution_count": 96,
   "id": "77a61ed3",
   "metadata": {},
   "outputs": [],
   "source": [
    "points_iou = np.load('data/synthetic_room_dataset/rooms_04/00000000/points_iou/points_iou_00.npz', allow_pickle=True)"
   ]
  },
  {
   "cell_type": "code",
   "execution_count": 97,
   "id": "75c34598",
   "metadata": {},
   "outputs": [
    {
     "name": "stdout",
     "output_type": "stream",
     "text": [
      "occupancies (12500,) \n",
      " [ 0 32  0 ...  0  0  0]\n",
      "points (100000, 3) \n",
      " [[-0.05865  0.1582  -0.14   ]\n",
      " [-0.247   -0.3103  -0.3682 ]\n",
      " [-0.5054   0.266   -0.4922 ]\n",
      " ...\n",
      " [ 0.373    0.4866  -0.2375 ]\n",
      " [-0.3718   0.4011   0.4883 ]\n",
      " [ 0.2644   0.429    0.1742 ]]\n",
      "semantics (100000,) \n",
      " [7 7 7 ... 7 7 7]\n",
      "z_scale () \n",
      " 0\n"
     ]
    }
   ],
   "source": [
    "for item in sorted(points_iou.files):\n",
    "    print(item, points_iou[item].shape, '\\n', points_iou[item])"
   ]
  },
  {
   "cell_type": "code",
   "execution_count": 98,
   "id": "7e9d2bb8",
   "metadata": {},
   "outputs": [
    {
     "data": {
      "text/plain": [
       "array([-1,  0,  1,  2,  7])"
      ]
     },
     "execution_count": 98,
     "metadata": {},
     "output_type": "execute_result"
    }
   ],
   "source": [
    "np.unique(points_iou['semantics'])"
   ]
  },
  {
   "cell_type": "markdown",
   "id": "e032e262",
   "metadata": {},
   "source": [
    "# ShapeNet"
   ]
  },
  {
   "cell_type": "markdown",
   "id": "a0651729",
   "metadata": {},
   "source": [
    "[ShapeNet](https://shapenet.org/) - richly-annotated, large-scale dataset of 3D shapes"
   ]
  },
  {
   "cell_type": "markdown",
   "id": "e736f6f5",
   "metadata": {},
   "source": [
    "ShapeNetCore is a subset of the full ShapeNet dataset with single clean 3D models and manually verified category and alignment annotations. It covers 55 common object categories with about 51,300 unique 3D models. The 12 object categories of PASCAL 3D+, a popular computer vision 3D benchmark dataset, are all covered by ShapeNetCore."
   ]
  },
  {
   "cell_type": "markdown",
   "id": "b83b2e4a",
   "metadata": {},
   "source": [
    "```\n",
    "{\n",
    "    \"synsetId\": \"02690373\",\n",
    "    \"name\": \"airliner\",\n",
    "    \"children\": [\n",
    "      \"03809312\",\n",
    "      \"04583620\"\n",
    "    ],\n",
    "    \"numInstances\": 1490\n",
    "},\n",
    "```"
   ]
  },
  {
   "cell_type": "markdown",
   "id": "0cbf04fe",
   "metadata": {},
   "source": [
    "Structure\n",
    "```\n",
    "- synsetId\n",
    "    - hash_id\n",
    "        - images\n",
    "            - texture0.jpg\n",
    "        - models\n",
    "            - model_normalized.json\n",
    "            - model_normalized.obj \n",
    "            - model_normalized.surface.binvox\n",
    "            - model_normalized.mtl\n",
    "            - model_normalized.solid.binvox\n",
    "```"
   ]
  },
  {
   "cell_type": "markdown",
   "id": "eac6e420",
   "metadata": {},
   "source": [
    "With Pytorch3D - https://pytorch3d.readthedocs.io/en/latest/_modules/pytorch3d/datasets/shapenet/shapenet_core.html"
   ]
  },
  {
   "cell_type": "code",
   "execution_count": null,
   "id": "8497bfba",
   "metadata": {},
   "outputs": [],
   "source": []
  }
 ],
 "metadata": {
  "kernelspec": {
   "display_name": "Python 3 (ipykernel)",
   "language": "python",
   "name": "python3"
  },
  "language_info": {
   "codemirror_mode": {
    "name": "ipython",
    "version": 3
   },
   "file_extension": ".py",
   "mimetype": "text/x-python",
   "name": "python",
   "nbconvert_exporter": "python",
   "pygments_lexer": "ipython3",
   "version": "3.8.0"
  }
 },
 "nbformat": 4,
 "nbformat_minor": 5
}
